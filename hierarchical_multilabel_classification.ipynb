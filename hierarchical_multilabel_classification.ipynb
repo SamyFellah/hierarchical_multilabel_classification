{
  "nbformat": 4,
  "nbformat_minor": 0,
  "metadata": {
    "colab": {
      "provenance": [],
      "authorship_tag": "ABX9TyP70M8Hqacvbq7KNODpJNPO",
      "include_colab_link": true
    },
    "kernelspec": {
      "name": "python3",
      "display_name": "Python 3"
    },
    "language_info": {
      "name": "python"
    },
    "accelerator": "GPU",
    "gpuClass": "standard"
  },
  "cells": [
    {
      "cell_type": "markdown",
      "metadata": {
        "id": "view-in-github",
        "colab_type": "text"
      },
      "source": [
        "<a href=\"https://colab.research.google.com/github/SamyFellah/hierarchical_multilabel_classification/blob/main/hierarchical_multilabel_classification.ipynb\" target=\"_parent\"><img src=\"https://colab.research.google.com/assets/colab-badge.svg\" alt=\"Open In Colab\"/></a>"
      ]
    },
    {
      "cell_type": "code",
      "execution_count": null,
      "metadata": {
        "colab": {
          "base_uri": "https://localhost:8080/"
        },
        "id": "uCpidnoBaEYk",
        "outputId": "103a8f5d-5d73-4953-c180-174f3cf300fc"
      },
      "outputs": [
        {
          "output_type": "stream",
          "name": "stdout",
          "text": [
            "/bin/bash: nvidia-smi: command not found\n"
          ]
        }
      ],
      "source": [
        "!pip install -q kaggle keras-preprocessing\n",
        "!nvidia-smi -L"
      ]
    },
    {
      "cell_type": "code",
      "source": [
        "\n",
        "import os\n",
        "\n",
        "import pandas as pd\n",
        "import tensorflow as tf\n",
        "from kaggle.api.kaggle_api_extended import KaggleApi\n",
        "from keras.applications.mobilenet_v2 import MobileNetV2\n",
        "from keras.utils import to_categorical\n",
        "from keras_preprocessing.image import ImageDataGenerator\n",
        "from sklearn.model_selection import train_test_split\n"
      ],
      "metadata": {
        "id": "I-sEbo9UaxFW"
      },
      "execution_count": null,
      "outputs": []
    },
    {
      "cell_type": "code",
      "source": [
        "os.environ['KAGGLE_USERNAME'] = \".........\"\n",
        "os.environ['KAGGLE_KEY'] = \"................\"\n",
        "\n",
        "\n",
        "def download_and_extract_kaggle_dataset(dataset_name, destination, unzip=True, quiet=False):\n",
        "    # Set up Kaggle API credentials\n",
        "    api = KaggleApi()\n",
        "    api.authenticate()\n",
        "\n",
        "    # Download the Kaggle dataset to the specified destination folder\n",
        "    api.dataset_download_files(dataset_name, path=destination, unzip=unzip, quiet=quiet)\n",
        "\n",
        "\n",
        "download_and_extract_kaggle_dataset('paramaggarwal/fashion-product-images-small', 'data/', unzip=True, )\n"
      ],
      "metadata": {
        "colab": {
          "base_uri": "https://localhost:8080/"
        },
        "id": "HXzIKKKdaxx6",
        "outputId": "820bd25e-4fb1-495c-a8db-07a5561f4b47"
      },
      "execution_count": null,
      "outputs": [
        {
          "output_type": "stream",
          "name": "stdout",
          "text": [
            "Downloading fashion-product-images-small.zip to data\n"
          ]
        },
        {
          "output_type": "stream",
          "name": "stderr",
          "text": [
            "100%|██████████| 565M/565M [00:19<00:00, 30.2MB/s]\n"
          ]
        },
        {
          "output_type": "stream",
          "name": "stdout",
          "text": [
            "\n"
          ]
        }
      ]
    },
    {
      "cell_type": "code",
      "source": [
        "\n",
        "\n",
        "class FashionModel(tf.keras.Model):\n",
        "    def __init__(self, input_shape, gender_output_shape, master_category_output_shape, sub_category_output_shape, article_type_output_shape):\n",
        "        super().__init__()\n",
        "        self.features_layer = tf.keras.applications.MobileNet(include_top=False, weights='imagenet',\n",
        "                                                             input_shape=input_shape, pooling='avg')\n",
        "        self.features_layer.trainable = False\n",
        "\n",
        "        self.gender_dense = tf.keras.layers.Dense(1024, activation = 'relu')\n",
        "        self.article_type_dense = tf.keras.layers.Dense(1024, activation = 'relu')\n",
        "        self.master_category_dense = tf.keras.layers.Dense(1024, activation = 'relu')\n",
        "        self.sub_category_dense = tf.keras.layers.Dense(1024, activation = 'relu')\n",
        "\n",
        "        self.gender_output = tf.keras.layers.Dense(gender_output_shape, activation='softmax', name='gender_output')\n",
        "        self.article_type_output = tf.keras.layers.Dense(article_type_output_shape, activation='softmax', name='article_type_output')\n",
        "        self.master_category_output = tf.keras.layers.Dense(master_category_output_shape, activation='softmax', name='master_category_output')\n",
        "        self.sub_category_output = tf.keras.layers.Dense(sub_category_output_shape, activation='softmax', name='sub_category_output')\n",
        "\n",
        "    def call(self, inputs):\n",
        "        features = self.features_layer(inputs)\n",
        "\n",
        "        gender_features = self.gender_dense(features)\n",
        "        master_category_features = self.master_category_dense(features)\n",
        "\n",
        "        input_sub_category = tf.keras.layers.Concatenate()([master_category_features, features])\n",
        "\n",
        "        sub_category_features = self.sub_category_dense(input_sub_category)\n",
        "\n",
        "        input_article_type = tf.keras.layers.Concatenate()([sub_category_features, features])\n",
        "\n",
        "        article_type_features = self.article_type_dense(input_article_type)\n",
        "\n",
        "        \n",
        "\n",
        "        gender_output = self.gender_output(gender_features)\n",
        "        master_category_output = self.master_category_output(master_category_features)\n",
        "        sub_category_output = self.sub_category_output(sub_category_features)\n",
        "        article_type_output = self.article_type_output(article_type_features)\n",
        "\n",
        "\n",
        "        return gender_output, master_category_output, sub_category_output, article_type_output\n",
        "\n",
        "class DataPreprocessor:\n",
        "    def __init__(self, csv_path, images_path, input_shape, test_size, batch_size, random_state=42):\n",
        "        self.csv_path = csv_path\n",
        "        self.images_path = images_path\n",
        "        self.input_shape = input_shape\n",
        "        self.test_size = test_size\n",
        "        self.batch_size = batch_size\n",
        "        self.random_state = random_state\n",
        "\n",
        "        self.nunique_values = {}\n",
        "        self.labels = {}\n",
        "        self.data_shape = ()\n",
        "        self.train_data_shape = ()\n",
        "        self.test_data_shape = ()\n",
        "\n",
        "        print('DataPreprocessor initialized')\n",
        "\n",
        "    def _process_csv(self):\n",
        "        df = pd.read_csv(self.csv_path, on_bad_lines='skip')\n",
        "        print(f'Original Data shape: {df.shape}')\n",
        "\n",
        "        columns = ['id', 'gender', 'masterCategory', 'subCategory', 'articleType']\n",
        "\n",
        "        # Filter out the required columns (gender, article_type, master_category and sub_category)\n",
        "        df = df[columns]\n",
        "        df['id'] = df['id'].astype(str)\n",
        "        df = df[df['id'].apply(lambda x: os.path.isfile(os.path.join(self.images_path, x + '.jpg')))]\n",
        "        df['img_path'] = df['id'].apply(lambda x: x + '.jpg')\n",
        "\n",
        "        print(f'Filtered Data shape: {df.shape} after removing images that are not present in the folder')\n",
        "        self.data_shape = df.shape\n",
        "        for column in columns[1:]:\n",
        "            self.labels[column] = df[column].astype('category').cat.categories\n",
        "            df[column] = df[column].astype('category').cat.codes\n",
        "            self.nunique_values[column] = df[column].nunique()  \n",
        "\n",
        "        print(df.head(10))\n",
        "        return df\n",
        "\n",
        "    def _create_generator(self, dataframe, datagen):\n",
        "        generator = datagen.flow_from_dataframe(dataframe,\n",
        "                                                directory=self.images_path,\n",
        "                                                x_col='img_path',\n",
        "                                                y_col=[ 'gender', 'masterCategory', 'subCategory', 'articleType'],\n",
        "                                                target_size=self.input_shape[:2],\n",
        "                                                class_mode='multi_output',\n",
        "                                                batch_size=self.batch_size,\n",
        "                                                shuffle=True,\n",
        "                                                seed=self.random_state)\n",
        "        while True:\n",
        "            data = next(generator)\n",
        "            images, labels = data[0], data[1]\n",
        "            # one hot encode the labels\n",
        "            gender_onehot_encoded = to_categorical(labels[0], num_classes=self.nunique_values['gender'])\n",
        "            master_category_onehot_encoded = to_categorical(labels[1], num_classes=self.nunique_values['masterCategory'])\n",
        "            sub_category_onehot_encoded = to_categorical(labels[2], num_classes=self.nunique_values['subCategory'])\n",
        "            article_type_onehot_encoded = to_categorical(labels[3], num_classes=self.nunique_values['articleType'])\n",
        "\n",
        "            one_hot_labels = [gender_onehot_encoded, master_category_onehot_encoded, sub_category_onehot_encoded, article_type_onehot_encoded]\n",
        "            yield images, one_hot_labels\n",
        "\n",
        "    def get_data_generators(self):\n",
        "        # Read the CSV file\n",
        "        df = self._process_csv()\n",
        "\n",
        "        # Split the dataset\n",
        "        train_df, test_df = train_test_split(df, test_size=self.test_size, random_state=self.random_state)\n",
        "\n",
        "        print(f'Train data shape: {train_df.shape}')\n",
        "        print(f'Test data shape: {test_df.shape}')\n",
        "\n",
        "        self.train_data_shape = train_df.shape\n",
        "        self.test_data_shape = test_df.shape\n",
        "\n",
        "        train_datagen = ImageDataGenerator(rescale=1. / 255)\n",
        "\n",
        "        test_datagen = ImageDataGenerator(rescale=1. / 255)\n",
        "\n",
        "        train_generator = self._create_generator(train_df, train_datagen)\n",
        "        validation_generator = self._create_generator(test_df, test_datagen)\n",
        "\n",
        "        return train_generator, validation_generator\n",
        "\n",
        "\n",
        "CSV_PATH = './data/styles.csv'\n",
        "IMAGE_PATH = './data/images'\n",
        "\n",
        "log_dir = './logs'\n",
        "checkpoint_filepath = './checkpoints/model'\n",
        "\n",
        "RANDOM_STATE = 42\n",
        "BATCH_SIZE = 32\n",
        "TEST_SIZE = 0.2\n",
        "EPOCHS = 30\n",
        "INPUT_SHAPE = (80, 60, 3)\n",
        "\n",
        "model_checkpoint_callback = tf.keras.callbacks.ModelCheckpoint(\n",
        "    filepath=checkpoint_filepath,\n",
        "    save_weights_only=False,\n",
        "    monitor='val_loss',\n",
        "    mode='min',\n",
        "    save_best_only=True)\n",
        "\n",
        "tensorboard_callback = tf.keras.callbacks.TensorBoard(log_dir=log_dir, histogram_freq=1)\n",
        "\n",
        "\n",
        "# replace default logger with rich logger\n",
        "\n",
        "\n",
        "def main():\n",
        "    print('Starting training')\n",
        "\n",
        "    print('Loading data')\n",
        "    data_preprocessor = DataPreprocessor(CSV_PATH, IMAGE_PATH, INPUT_SHAPE, TEST_SIZE, BATCH_SIZE, RANDOM_STATE)\n",
        "    train_generator, validation_generator = data_preprocessor.get_data_generators()\n",
        "    nunique_values = data_preprocessor.nunique_values\n",
        "    print(data_preprocessor.labels)\n",
        "    print('Data loaded')\n",
        "    print(f'Number of unique values: {nunique_values}')\n",
        "\n",
        "    print('Building model')\n",
        "    fashion_model = FashionModel(INPUT_SHAPE, nunique_values['gender'], nunique_values['masterCategory'], nunique_values['subCategory'], nunique_values['articleType'])\n",
        "\n",
        "    fashion_model.compile(optimizer='adam',\n",
        "                          loss=['categorical_crossentropy', 'categorical_crossentropy', 'categorical_crossentropy', 'categorical_crossentropy'],\n",
        "                          metrics=['accuracy']\n",
        "                          )\n",
        "\n",
        "    history = fashion_model.fit(train_generator,\n",
        "                                epochs=EPOCHS,\n",
        "                                batch_size=BATCH_SIZE,\n",
        "                                validation_data=validation_generator,\n",
        "                                steps_per_epoch=data_preprocessor.train_data_shape[0] // BATCH_SIZE,\n",
        "                                validation_steps=data_preprocessor.test_data_shape[0] // BATCH_SIZE,\n",
        "                                callbacks=[tensorboard_callback, model_checkpoint_callback],\n",
        "                                verbose=1, )\n",
        "\n",
        "\n",
        "main()\n"
      ],
      "metadata": {
        "colab": {
          "base_uri": "https://localhost:8080/",
          "height": 1000
        },
        "id": "hnMCk6vsaZEI",
        "outputId": "8898703f-584f-4219-e134-2d270b0a788e"
      },
      "execution_count": null,
      "outputs": [
        {
          "output_type": "stream",
          "name": "stdout",
          "text": [
            "Starting training\n",
            "Loading data\n",
            "DataPreprocessor initialized\n",
            "Original Data shape: (44424, 10)\n"
          ]
        },
        {
          "output_type": "stream",
          "name": "stderr",
          "text": [
            "WARNING:tensorflow:`input_shape` is undefined or non-square, or `rows` is not in [128, 160, 192, 224]. Weights for input shape (224, 224) will be loaded as the default.\n"
          ]
        },
        {
          "output_type": "stream",
          "name": "stdout",
          "text": [
            "Filtered Data shape: (44419, 6) after removing images that are not present in the folder\n",
            "      id  gender  masterCategory  subCategory  articleType   img_path\n",
            "0  15970       2               1           38          104  15970.jpg\n",
            "1  39386       2               1            6           56  39386.jpg\n",
            "2  59263       4               0           42          139  59263.jpg\n",
            "3  21379       2               1            6          127  21379.jpg\n",
            "4  53759       2               1           38          133  53759.jpg\n",
            "5   1855       2               1           38          133   1855.jpg\n",
            "6  30805       2               1           38          104  30805.jpg\n",
            "7  26960       4               1           38          104  26960.jpg\n",
            "8  29114       2               0           33          110  29114.jpg\n",
            "9  30039       2               0           42          139  30039.jpg\n",
            "Train data shape: (35535, 6)\n",
            "Test data shape: (8884, 6)\n",
            "{'gender': Index(['Boys', 'Girls', 'Men', 'Unisex', 'Women'], dtype='object'), 'masterCategory': Index(['Accessories', 'Apparel', 'Footwear', 'Free Items', 'Home',\n",
            "       'Personal Care', 'Sporting Goods'],\n",
            "      dtype='object'), 'subCategory': Index(['Accessories', 'Apparel Set', 'Bags', 'Bath and Body',\n",
            "       'Beauty Accessories', 'Belts', 'Bottomwear', 'Cufflinks', 'Dress',\n",
            "       'Eyes', 'Eyewear', 'Flip Flops', 'Fragrance', 'Free Gifts', 'Gloves',\n",
            "       'Hair', 'Headwear', 'Home Furnishing', 'Innerwear', 'Jewellery', 'Lips',\n",
            "       'Loungewear and Nightwear', 'Makeup', 'Mufflers', 'Nails', 'Perfumes',\n",
            "       'Sandal', 'Saree', 'Scarves', 'Shoe Accessories', 'Shoes', 'Skin',\n",
            "       'Skin Care', 'Socks', 'Sports Accessories', 'Sports Equipment',\n",
            "       'Stoles', 'Ties', 'Topwear', 'Umbrellas', 'Vouchers', 'Wallets',\n",
            "       'Watches', 'Water Bottle', 'Wristbands'],\n",
            "      dtype='object'), 'articleType': Index(['Accessory Gift Set', 'Baby Dolls', 'Backpacks', 'Bangle',\n",
            "       'Basketballs', 'Bath Robe', 'Beauty Accessory', 'Belts', 'Blazers',\n",
            "       'Body Lotion',\n",
            "       ...\n",
            "       'Trunk', 'Tshirts', 'Tunics', 'Umbrellas', 'Waist Pouch', 'Waistcoat',\n",
            "       'Wallets', 'Watches', 'Water Bottle', 'Wristbands'],\n",
            "      dtype='object', length=142)}\n",
            "Data loaded\n",
            "Number of unique values: {'gender': 5, 'masterCategory': 7, 'subCategory': 45, 'articleType': 142}\n",
            "Building model\n",
            "Downloading data from https://storage.googleapis.com/tensorflow/keras-applications/mobilenet/mobilenet_1_0_224_tf_no_top.h5\n",
            "17225924/17225924 [==============================] - 1s 0us/step\n",
            "Found 35535 validated image filenames.\n",
            "Epoch 1/30\n",
            "  11/1110 [..............................] - ETA: 4:33 - loss: 8.0205 - output_1_loss: 1.1663 - output_2_loss: 0.8616 - output_3_loss: 2.2259 - output_4_loss: 3.7667 - output_1_accuracy: 0.5284 - output_2_accuracy: 0.7273 - output_3_accuracy: 0.4972 - output_4_accuracy: 0.2216"
          ]
        },
        {
          "output_type": "error",
          "ename": "KeyboardInterrupt",
          "evalue": "ignored",
          "traceback": [
            "\u001b[0;31m---------------------------------------------------------------------------\u001b[0m",
            "\u001b[0;31mKeyboardInterrupt\u001b[0m                         Traceback (most recent call last)",
            "\u001b[0;32m<ipython-input-6-1f91964410f7>\u001b[0m in \u001b[0;36m<cell line: 180>\u001b[0;34m()\u001b[0m\n\u001b[1;32m    178\u001b[0m \u001b[0;34m\u001b[0m\u001b[0m\n\u001b[1;32m    179\u001b[0m \u001b[0;34m\u001b[0m\u001b[0m\n\u001b[0;32m--> 180\u001b[0;31m \u001b[0mmain\u001b[0m\u001b[0;34m(\u001b[0m\u001b[0;34m)\u001b[0m\u001b[0;34m\u001b[0m\u001b[0;34m\u001b[0m\u001b[0m\n\u001b[0m",
            "\u001b[0;32m<ipython-input-6-1f91964410f7>\u001b[0m in \u001b[0;36mmain\u001b[0;34m()\u001b[0m\n\u001b[1;32m    168\u001b[0m                           )\n\u001b[1;32m    169\u001b[0m \u001b[0;34m\u001b[0m\u001b[0m\n\u001b[0;32m--> 170\u001b[0;31m     history = fashion_model.fit(train_generator,\n\u001b[0m\u001b[1;32m    171\u001b[0m                                 \u001b[0mepochs\u001b[0m\u001b[0;34m=\u001b[0m\u001b[0mEPOCHS\u001b[0m\u001b[0;34m,\u001b[0m\u001b[0;34m\u001b[0m\u001b[0;34m\u001b[0m\u001b[0m\n\u001b[1;32m    172\u001b[0m                                 \u001b[0mbatch_size\u001b[0m\u001b[0;34m=\u001b[0m\u001b[0mBATCH_SIZE\u001b[0m\u001b[0;34m,\u001b[0m\u001b[0;34m\u001b[0m\u001b[0;34m\u001b[0m\u001b[0m\n",
            "\u001b[0;32m/usr/local/lib/python3.9/dist-packages/keras/utils/traceback_utils.py\u001b[0m in \u001b[0;36merror_handler\u001b[0;34m(*args, **kwargs)\u001b[0m\n\u001b[1;32m     63\u001b[0m         \u001b[0mfiltered_tb\u001b[0m \u001b[0;34m=\u001b[0m \u001b[0;32mNone\u001b[0m\u001b[0;34m\u001b[0m\u001b[0;34m\u001b[0m\u001b[0m\n\u001b[1;32m     64\u001b[0m         \u001b[0;32mtry\u001b[0m\u001b[0;34m:\u001b[0m\u001b[0;34m\u001b[0m\u001b[0;34m\u001b[0m\u001b[0m\n\u001b[0;32m---> 65\u001b[0;31m             \u001b[0;32mreturn\u001b[0m \u001b[0mfn\u001b[0m\u001b[0;34m(\u001b[0m\u001b[0;34m*\u001b[0m\u001b[0margs\u001b[0m\u001b[0;34m,\u001b[0m \u001b[0;34m**\u001b[0m\u001b[0mkwargs\u001b[0m\u001b[0;34m)\u001b[0m\u001b[0;34m\u001b[0m\u001b[0;34m\u001b[0m\u001b[0m\n\u001b[0m\u001b[1;32m     66\u001b[0m         \u001b[0;32mexcept\u001b[0m \u001b[0mException\u001b[0m \u001b[0;32mas\u001b[0m \u001b[0me\u001b[0m\u001b[0;34m:\u001b[0m\u001b[0;34m\u001b[0m\u001b[0;34m\u001b[0m\u001b[0m\n\u001b[1;32m     67\u001b[0m             \u001b[0mfiltered_tb\u001b[0m \u001b[0;34m=\u001b[0m \u001b[0m_process_traceback_frames\u001b[0m\u001b[0;34m(\u001b[0m\u001b[0me\u001b[0m\u001b[0;34m.\u001b[0m\u001b[0m__traceback__\u001b[0m\u001b[0;34m)\u001b[0m\u001b[0;34m\u001b[0m\u001b[0;34m\u001b[0m\u001b[0m\n",
            "\u001b[0;32m/usr/local/lib/python3.9/dist-packages/keras/engine/training.py\u001b[0m in \u001b[0;36mfit\u001b[0;34m(self, x, y, batch_size, epochs, verbose, callbacks, validation_split, validation_data, shuffle, class_weight, sample_weight, initial_epoch, steps_per_epoch, validation_steps, validation_batch_size, validation_freq, max_queue_size, workers, use_multiprocessing)\u001b[0m\n\u001b[1;32m   1683\u001b[0m                         ):\n\u001b[1;32m   1684\u001b[0m                             \u001b[0mcallbacks\u001b[0m\u001b[0;34m.\u001b[0m\u001b[0mon_train_batch_begin\u001b[0m\u001b[0;34m(\u001b[0m\u001b[0mstep\u001b[0m\u001b[0;34m)\u001b[0m\u001b[0;34m\u001b[0m\u001b[0;34m\u001b[0m\u001b[0m\n\u001b[0;32m-> 1685\u001b[0;31m                             \u001b[0mtmp_logs\u001b[0m \u001b[0;34m=\u001b[0m \u001b[0mself\u001b[0m\u001b[0;34m.\u001b[0m\u001b[0mtrain_function\u001b[0m\u001b[0;34m(\u001b[0m\u001b[0miterator\u001b[0m\u001b[0;34m)\u001b[0m\u001b[0;34m\u001b[0m\u001b[0;34m\u001b[0m\u001b[0m\n\u001b[0m\u001b[1;32m   1686\u001b[0m                             \u001b[0;32mif\u001b[0m \u001b[0mdata_handler\u001b[0m\u001b[0;34m.\u001b[0m\u001b[0mshould_sync\u001b[0m\u001b[0;34m:\u001b[0m\u001b[0;34m\u001b[0m\u001b[0;34m\u001b[0m\u001b[0m\n\u001b[1;32m   1687\u001b[0m                                 \u001b[0mcontext\u001b[0m\u001b[0;34m.\u001b[0m\u001b[0masync_wait\u001b[0m\u001b[0;34m(\u001b[0m\u001b[0;34m)\u001b[0m\u001b[0;34m\u001b[0m\u001b[0;34m\u001b[0m\u001b[0m\n",
            "\u001b[0;32m/usr/local/lib/python3.9/dist-packages/tensorflow/python/util/traceback_utils.py\u001b[0m in \u001b[0;36merror_handler\u001b[0;34m(*args, **kwargs)\u001b[0m\n\u001b[1;32m    148\u001b[0m     \u001b[0mfiltered_tb\u001b[0m \u001b[0;34m=\u001b[0m \u001b[0;32mNone\u001b[0m\u001b[0;34m\u001b[0m\u001b[0;34m\u001b[0m\u001b[0m\n\u001b[1;32m    149\u001b[0m     \u001b[0;32mtry\u001b[0m\u001b[0;34m:\u001b[0m\u001b[0;34m\u001b[0m\u001b[0;34m\u001b[0m\u001b[0m\n\u001b[0;32m--> 150\u001b[0;31m       \u001b[0;32mreturn\u001b[0m \u001b[0mfn\u001b[0m\u001b[0;34m(\u001b[0m\u001b[0;34m*\u001b[0m\u001b[0margs\u001b[0m\u001b[0;34m,\u001b[0m \u001b[0;34m**\u001b[0m\u001b[0mkwargs\u001b[0m\u001b[0;34m)\u001b[0m\u001b[0;34m\u001b[0m\u001b[0;34m\u001b[0m\u001b[0m\n\u001b[0m\u001b[1;32m    151\u001b[0m     \u001b[0;32mexcept\u001b[0m \u001b[0mException\u001b[0m \u001b[0;32mas\u001b[0m \u001b[0me\u001b[0m\u001b[0;34m:\u001b[0m\u001b[0;34m\u001b[0m\u001b[0;34m\u001b[0m\u001b[0m\n\u001b[1;32m    152\u001b[0m       \u001b[0mfiltered_tb\u001b[0m \u001b[0;34m=\u001b[0m \u001b[0m_process_traceback_frames\u001b[0m\u001b[0;34m(\u001b[0m\u001b[0me\u001b[0m\u001b[0;34m.\u001b[0m\u001b[0m__traceback__\u001b[0m\u001b[0;34m)\u001b[0m\u001b[0;34m\u001b[0m\u001b[0;34m\u001b[0m\u001b[0m\n",
            "\u001b[0;32m/usr/local/lib/python3.9/dist-packages/tensorflow/python/eager/polymorphic_function/polymorphic_function.py\u001b[0m in \u001b[0;36m__call__\u001b[0;34m(self, *args, **kwds)\u001b[0m\n\u001b[1;32m    892\u001b[0m \u001b[0;34m\u001b[0m\u001b[0m\n\u001b[1;32m    893\u001b[0m       \u001b[0;32mwith\u001b[0m \u001b[0mOptionalXlaContext\u001b[0m\u001b[0;34m(\u001b[0m\u001b[0mself\u001b[0m\u001b[0;34m.\u001b[0m\u001b[0m_jit_compile\u001b[0m\u001b[0;34m)\u001b[0m\u001b[0;34m:\u001b[0m\u001b[0;34m\u001b[0m\u001b[0;34m\u001b[0m\u001b[0m\n\u001b[0;32m--> 894\u001b[0;31m         \u001b[0mresult\u001b[0m \u001b[0;34m=\u001b[0m \u001b[0mself\u001b[0m\u001b[0;34m.\u001b[0m\u001b[0m_call\u001b[0m\u001b[0;34m(\u001b[0m\u001b[0;34m*\u001b[0m\u001b[0margs\u001b[0m\u001b[0;34m,\u001b[0m \u001b[0;34m**\u001b[0m\u001b[0mkwds\u001b[0m\u001b[0;34m)\u001b[0m\u001b[0;34m\u001b[0m\u001b[0;34m\u001b[0m\u001b[0m\n\u001b[0m\u001b[1;32m    895\u001b[0m \u001b[0;34m\u001b[0m\u001b[0m\n\u001b[1;32m    896\u001b[0m       \u001b[0mnew_tracing_count\u001b[0m \u001b[0;34m=\u001b[0m \u001b[0mself\u001b[0m\u001b[0;34m.\u001b[0m\u001b[0mexperimental_get_tracing_count\u001b[0m\u001b[0;34m(\u001b[0m\u001b[0;34m)\u001b[0m\u001b[0;34m\u001b[0m\u001b[0;34m\u001b[0m\u001b[0m\n",
            "\u001b[0;32m/usr/local/lib/python3.9/dist-packages/tensorflow/python/eager/polymorphic_function/polymorphic_function.py\u001b[0m in \u001b[0;36m_call\u001b[0;34m(self, *args, **kwds)\u001b[0m\n\u001b[1;32m    924\u001b[0m       \u001b[0;31m# In this case we have created variables on the first call, so we run the\u001b[0m\u001b[0;34m\u001b[0m\u001b[0;34m\u001b[0m\u001b[0m\n\u001b[1;32m    925\u001b[0m       \u001b[0;31m# defunned version which is guaranteed to never create variables.\u001b[0m\u001b[0;34m\u001b[0m\u001b[0;34m\u001b[0m\u001b[0m\n\u001b[0;32m--> 926\u001b[0;31m       \u001b[0;32mreturn\u001b[0m \u001b[0mself\u001b[0m\u001b[0;34m.\u001b[0m\u001b[0m_no_variable_creation_fn\u001b[0m\u001b[0;34m(\u001b[0m\u001b[0;34m*\u001b[0m\u001b[0margs\u001b[0m\u001b[0;34m,\u001b[0m \u001b[0;34m**\u001b[0m\u001b[0mkwds\u001b[0m\u001b[0;34m)\u001b[0m  \u001b[0;31m# pylint: disable=not-callable\u001b[0m\u001b[0;34m\u001b[0m\u001b[0;34m\u001b[0m\u001b[0m\n\u001b[0m\u001b[1;32m    927\u001b[0m     \u001b[0;32melif\u001b[0m \u001b[0mself\u001b[0m\u001b[0;34m.\u001b[0m\u001b[0m_variable_creation_fn\u001b[0m \u001b[0;32mis\u001b[0m \u001b[0;32mnot\u001b[0m \u001b[0;32mNone\u001b[0m\u001b[0;34m:\u001b[0m\u001b[0;34m\u001b[0m\u001b[0;34m\u001b[0m\u001b[0m\n\u001b[1;32m    928\u001b[0m       \u001b[0;31m# Release the lock early so that multiple threads can perform the call\u001b[0m\u001b[0;34m\u001b[0m\u001b[0;34m\u001b[0m\u001b[0m\n",
            "\u001b[0;32m/usr/local/lib/python3.9/dist-packages/tensorflow/python/eager/polymorphic_function/tracing_compiler.py\u001b[0m in \u001b[0;36m__call__\u001b[0;34m(self, *args, **kwargs)\u001b[0m\n\u001b[1;32m    141\u001b[0m       (concrete_function,\n\u001b[1;32m    142\u001b[0m        filtered_flat_args) = self._maybe_define_function(args, kwargs)\n\u001b[0;32m--> 143\u001b[0;31m     return concrete_function._call_flat(\n\u001b[0m\u001b[1;32m    144\u001b[0m         filtered_flat_args, captured_inputs=concrete_function.captured_inputs)  # pylint: disable=protected-access\n\u001b[1;32m    145\u001b[0m \u001b[0;34m\u001b[0m\u001b[0m\n",
            "\u001b[0;32m/usr/local/lib/python3.9/dist-packages/tensorflow/python/eager/polymorphic_function/monomorphic_function.py\u001b[0m in \u001b[0;36m_call_flat\u001b[0;34m(self, args, captured_inputs, cancellation_manager)\u001b[0m\n\u001b[1;32m   1755\u001b[0m         and executing_eagerly):\n\u001b[1;32m   1756\u001b[0m       \u001b[0;31m# No tape is watching; skip to running the function.\u001b[0m\u001b[0;34m\u001b[0m\u001b[0;34m\u001b[0m\u001b[0m\n\u001b[0;32m-> 1757\u001b[0;31m       return self._build_call_outputs(self._inference_function.call(\n\u001b[0m\u001b[1;32m   1758\u001b[0m           ctx, args, cancellation_manager=cancellation_manager))\n\u001b[1;32m   1759\u001b[0m     forward_backward = self._select_forward_and_backward_functions(\n",
            "\u001b[0;32m/usr/local/lib/python3.9/dist-packages/tensorflow/python/eager/polymorphic_function/monomorphic_function.py\u001b[0m in \u001b[0;36mcall\u001b[0;34m(self, ctx, args, cancellation_manager)\u001b[0m\n\u001b[1;32m    379\u001b[0m       \u001b[0;32mwith\u001b[0m \u001b[0m_InterpolateFunctionError\u001b[0m\u001b[0;34m(\u001b[0m\u001b[0mself\u001b[0m\u001b[0;34m)\u001b[0m\u001b[0;34m:\u001b[0m\u001b[0;34m\u001b[0m\u001b[0;34m\u001b[0m\u001b[0m\n\u001b[1;32m    380\u001b[0m         \u001b[0;32mif\u001b[0m \u001b[0mcancellation_manager\u001b[0m \u001b[0;32mis\u001b[0m \u001b[0;32mNone\u001b[0m\u001b[0;34m:\u001b[0m\u001b[0;34m\u001b[0m\u001b[0;34m\u001b[0m\u001b[0m\n\u001b[0;32m--> 381\u001b[0;31m           outputs = execute.execute(\n\u001b[0m\u001b[1;32m    382\u001b[0m               \u001b[0mstr\u001b[0m\u001b[0;34m(\u001b[0m\u001b[0mself\u001b[0m\u001b[0;34m.\u001b[0m\u001b[0msignature\u001b[0m\u001b[0;34m.\u001b[0m\u001b[0mname\u001b[0m\u001b[0;34m)\u001b[0m\u001b[0;34m,\u001b[0m\u001b[0;34m\u001b[0m\u001b[0;34m\u001b[0m\u001b[0m\n\u001b[1;32m    383\u001b[0m               \u001b[0mnum_outputs\u001b[0m\u001b[0;34m=\u001b[0m\u001b[0mself\u001b[0m\u001b[0;34m.\u001b[0m\u001b[0m_num_outputs\u001b[0m\u001b[0;34m,\u001b[0m\u001b[0;34m\u001b[0m\u001b[0;34m\u001b[0m\u001b[0m\n",
            "\u001b[0;32m/usr/local/lib/python3.9/dist-packages/tensorflow/python/eager/execute.py\u001b[0m in \u001b[0;36mquick_execute\u001b[0;34m(op_name, num_outputs, inputs, attrs, ctx, name)\u001b[0m\n\u001b[1;32m     50\u001b[0m   \u001b[0;32mtry\u001b[0m\u001b[0;34m:\u001b[0m\u001b[0;34m\u001b[0m\u001b[0;34m\u001b[0m\u001b[0m\n\u001b[1;32m     51\u001b[0m     \u001b[0mctx\u001b[0m\u001b[0;34m.\u001b[0m\u001b[0mensure_initialized\u001b[0m\u001b[0;34m(\u001b[0m\u001b[0;34m)\u001b[0m\u001b[0;34m\u001b[0m\u001b[0;34m\u001b[0m\u001b[0m\n\u001b[0;32m---> 52\u001b[0;31m     tensors = pywrap_tfe.TFE_Py_Execute(ctx._handle, device_name, op_name,\n\u001b[0m\u001b[1;32m     53\u001b[0m                                         inputs, attrs, num_outputs)\n\u001b[1;32m     54\u001b[0m   \u001b[0;32mexcept\u001b[0m \u001b[0mcore\u001b[0m\u001b[0;34m.\u001b[0m\u001b[0m_NotOkStatusException\u001b[0m \u001b[0;32mas\u001b[0m \u001b[0me\u001b[0m\u001b[0;34m:\u001b[0m\u001b[0;34m\u001b[0m\u001b[0;34m\u001b[0m\u001b[0m\n",
            "\u001b[0;31mKeyboardInterrupt\u001b[0m: "
          ]
        }
      ]
    },
    {
      "cell_type": "code",
      "source": [],
      "metadata": {
        "id": "_9J2uyQvanO-"
      },
      "execution_count": null,
      "outputs": []
    }
  ]
}